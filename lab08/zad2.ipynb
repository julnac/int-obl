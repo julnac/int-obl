{
 "cells": [
  {
   "cell_type": "code",
   "execution_count": 5,
   "id": "89a88057",
   "metadata": {},
   "outputs": [
    {
     "name": "stderr",
     "output_type": "stream",
     "text": [
      "[nltk_data] Downloading package vader_lexicon to\n",
      "[nltk_data]     C:\\Users\\julia_rxokckg\\AppData\\Roaming\\nltk_data...\n",
      "[nltk_data]   Package vader_lexicon is already up-to-date!\n"
     ]
    }
   ],
   "source": [
    "import nltk\n",
    "import text2emotion as te\n",
    "nltk.download('vader_lexicon')\n",
    "\n",
    "from nltk.sentiment.vader import SentimentIntensityAnalyzer"
   ]
  },
  {
   "cell_type": "code",
   "execution_count": 8,
   "id": "ebfe4de6",
   "metadata": {},
   "outputs": [
    {
     "name": "stdout",
     "output_type": "stream",
     "text": [
      "Opinia pozytywna vader: {'neg': 0.0, 'neu': 0.588, 'pos': 0.412, 'compound': 0.9732}\n",
      "Opinia negatywna vader: {'neg': 0.182, 'neu': 0.771, 'pos': 0.046, 'compound': -0.8158}\n"
     ]
    }
   ],
   "source": [
    "opinia_pozytywna = \"Amazing location not many amenities or something out of the ordinary in the facility but it if you're just looking for a great central location in Malaga near everything in a good value and definitely it's a good place to be\"\n",
    "opinia_negatywna = \"The bed pillow was very flat and I used the dress cushions to sleep on but they were a rough fabric. The shower was a bit hit and miss ran cold then really hot which was annoying. Location of room was a bit noisy but not the hotels fault on who stays just some people are inconsiderate\"\n",
    "\n",
    "# VADER\n",
    "analyzer = SentimentIntensityAnalyzer()\n",
    "wynik_pozytywna = analyzer.polarity_scores(opinia_pozytywna)\n",
    "wynik_negatywna = analyzer.polarity_scores(opinia_negatywna)\n",
    "\n",
    "print(\"Opinia pozytywna vader:\", wynik_pozytywna)\n",
    "print(\"Opinia negatywna vader:\", wynik_negatywna)"
   ]
  },
  {
   "cell_type": "code",
   "execution_count": null,
   "id": "79d42e78",
   "metadata": {},
   "outputs": [],
   "source": [
    "#TEXT2EMOTION\n",
    "emocje1 = te.get_emotion(opinia_pozytywna)\n",
    "emocje2 = te.get_emotion(opinia_negatywna)\n",
    "\n",
    "print(\"Opinia pozytywna text2emotion:\", emocje1)\n",
    "print(\"Opinia negatywna text2emotion:\", emocje2)"
   ]
  },
  {
   "cell_type": "code",
   "execution_count": 12,
   "id": "9a27dd01",
   "metadata": {},
   "outputs": [
    {
     "name": "stdout",
     "output_type": "stream",
     "text": [
      "WARNING:tensorflow:From c:\\Python311\\Lib\\site-packages\\tf_keras\\src\\losses.py:2976: The name tf.losses.sparse_softmax_cross_entropy is deprecated. Please use tf.compat.v1.losses.sparse_softmax_cross_entropy instead.\n",
      "\n"
     ]
    },
    {
     "name": "stderr",
     "output_type": "stream",
     "text": [
      "Xet Storage is enabled for this repo, but the 'hf_xet' package is not installed. Falling back to regular HTTP download. For better performance, install the package with: `pip install huggingface_hub[hf_xet]` or `pip install hf_xet`\n",
      "Xet Storage is enabled for this repo, but the 'hf_xet' package is not installed. Falling back to regular HTTP download. For better performance, install the package with: `pip install huggingface_hub[hf_xet]` or `pip install hf_xet`\n",
      "Device set to use cpu\n"
     ]
    },
    {
     "name": "stdout",
     "output_type": "stream",
     "text": [
      "Emocje wg BERT dla opinii 1:\n",
      "surprise: 0.674\n",
      "joy: 0.247\n",
      "neutral: 0.067\n",
      "sadness: 0.005\n",
      "fear: 0.005\n",
      "anger: 0.003\n",
      "disgust: 0.001\n",
      "\n",
      "Emocje wg BERT dla opinii 2:\n",
      "disgust: 0.365\n",
      "anger: 0.252\n",
      "sadness: 0.177\n",
      "neutral: 0.159\n",
      "surprise: 0.023\n",
      "fear: 0.020\n",
      "joy: 0.005\n"
     ]
    }
   ],
   "source": [
    "#BERT\n",
    "from transformers import pipeline\n",
    "\n",
    "# Utwórz pipeline do klasyfikacji emocji\n",
    "emotion_classifier = pipeline(\"text-classification\", model=\"j-hartmann/emotion-english-distilroberta-base\", top_k=None)\n",
    "\n",
    "wynik1 = emotion_classifier(opinia_pozytywna)\n",
    "wynik2 = emotion_classifier(opinia_negatywna)\n",
    "\n",
    "print(\"Emocje wg BERT dla opinii 1:\")\n",
    "for emocja in wynik1[0]:\n",
    "    print(f\"{emocja['label']}: {emocja['score']:.3f}\")\n",
    "\n",
    "print(\"\\nEmocje wg BERT dla opinii 2:\")\n",
    "for emocja in wynik2[0]:\n",
    "    print(f\"{emocja['label']}: {emocja['score']:.3f}\")"
   ]
  }
 ],
 "metadata": {
  "kernelspec": {
   "display_name": "Python 3",
   "language": "python",
   "name": "python3"
  },
  "language_info": {
   "codemirror_mode": {
    "name": "ipython",
    "version": 3
   },
   "file_extension": ".py",
   "mimetype": "text/x-python",
   "name": "python",
   "nbconvert_exporter": "python",
   "pygments_lexer": "ipython3",
   "version": "3.11.0"
  }
 },
 "nbformat": 4,
 "nbformat_minor": 5
}
