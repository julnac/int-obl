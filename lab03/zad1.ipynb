{
 "cells": [
  {
   "cell_type": "code",
   "execution_count": 4,
   "metadata": {},
   "outputs": [
    {
     "name": "stdout",
     "output_type": "stream",
     "text": [
      "     sepal.length  sepal.width  petal.length  petal.width    variety\n",
      "0             5.1          3.5           1.4          0.2     Setosa\n",
      "1             4.9          3.0           1.4          0.2     Setosa\n",
      "2             4.7          3.2           1.3          0.2     Setosa\n",
      "3             4.6          3.1           1.5          0.2     Setosa\n",
      "4             5.0          3.6           1.4          0.2     Setosa\n",
      "..            ...          ...           ...          ...        ...\n",
      "145           6.7          3.0           5.2          2.3  Virginica\n",
      "146           6.3          2.5           5.0          1.9  Virginica\n",
      "147           6.5          3.0           5.2          2.0  Virginica\n",
      "148           6.2          3.4           5.4          2.3  Virginica\n",
      "149           5.9          3.0           5.1          1.8  Virginica\n",
      "\n",
      "[150 rows x 5 columns]\n"
     ]
    }
   ],
   "source": [
    "import pandas as pd\n",
    "from sklearn.model_selection import train_test_split \n",
    "\n",
    "df = pd.read_csv(\"iris.csv\") \n",
    "print(df) "
   ]
  },
  {
   "cell_type": "code",
   "execution_count": 9,
   "metadata": {},
   "outputs": [
    {
     "name": "stdout",
     "output_type": "stream",
     "text": [
      "[[5.1 3.4 1.5 0.2 'Setosa']\n",
      " [6.7 2.5 5.8 1.8 'Virginica']\n",
      " [5.0 3.3 1.4 0.2 'Setosa']\n",
      " [6.0 2.2 4.0 1.0 'Versicolor']\n",
      " [7.2 3.2 6.0 1.8 'Virginica']\n",
      " [5.8 2.6 4.0 1.2 'Versicolor']\n",
      " [6.0 2.9 4.5 1.5 'Versicolor']\n",
      " [5.3 3.7 1.5 0.2 'Setosa']\n",
      " [6.1 3.0 4.9 1.8 'Virginica']\n",
      " [5.4 3.9 1.3 0.4 'Setosa']\n",
      " [5.0 3.5 1.6 0.6 'Setosa']\n",
      " [5.7 2.5 5.0 2.0 'Virginica']\n",
      " [4.6 3.6 1.0 0.2 'Setosa']\n",
      " [6.4 2.9 4.3 1.3 'Versicolor']\n",
      " [6.8 2.8 4.8 1.4 'Versicolor']\n",
      " [5.7 2.9 4.2 1.3 'Versicolor']\n",
      " [5.1 3.8 1.6 0.2 'Setosa']\n",
      " [5.5 2.4 3.7 1.0 'Versicolor']\n",
      " [5.7 3.8 1.7 0.3 'Setosa']\n",
      " [7.6 3.0 6.6 2.1 'Virginica']\n",
      " [6.1 2.8 4.0 1.3 'Versicolor']\n",
      " [7.7 3.0 6.1 2.3 'Virginica']\n",
      " [5.8 2.7 3.9 1.2 'Versicolor']\n",
      " [6.4 2.8 5.6 2.2 'Virginica']\n",
      " [5.0 2.0 3.5 1.0 'Versicolor']\n",
      " [6.3 3.4 5.6 2.4 'Virginica']\n",
      " [5.8 4.0 1.2 0.2 'Setosa']\n",
      " [6.4 3.2 4.5 1.5 'Versicolor']\n",
      " [6.2 2.9 4.3 1.3 'Versicolor']\n",
      " [5.8 2.7 5.1 1.9 'Virginica']\n",
      " [5.4 3.4 1.7 0.2 'Setosa']\n",
      " [6.1 2.9 4.7 1.4 'Versicolor']\n",
      " [5.6 3.0 4.5 1.5 'Versicolor']\n",
      " [6.2 2.2 4.5 1.5 'Versicolor']\n",
      " [5.9 3.2 4.8 1.8 'Versicolor']\n",
      " [5.6 3.0 4.1 1.3 'Versicolor']\n",
      " [6.9 3.1 5.1 2.3 'Virginica']\n",
      " [5.4 3.7 1.5 0.2 'Setosa']\n",
      " [6.3 3.3 6.0 2.5 'Virginica']\n",
      " [5.1 3.7 1.5 0.4 'Setosa']\n",
      " [5.4 3.4 1.5 0.4 'Setosa']\n",
      " [5.0 3.5 1.3 0.3 'Setosa']\n",
      " [6.5 3.0 5.5 1.8 'Virginica']\n",
      " [4.6 3.4 1.4 0.3 'Setosa']\n",
      " [6.3 2.9 5.6 1.8 'Virginica']]\n",
      "45\n"
     ]
    }
   ],
   "source": [
    "#podzial na zbior testowy (30%) i treningowy (70%), ziarno losowosci = 13 \n",
    "(train_set, test_set) = train_test_split(df.values, train_size=0.7, random_state=292581) \n",
    "\n",
    "print(test_set) \n",
    "print(test_set.shape[0]) "
   ]
  },
  {
   "cell_type": "code",
   "execution_count": 10,
   "metadata": {},
   "outputs": [
    {
     "name": "stdout",
     "output_type": "stream",
     "text": [
      "45\n",
      "105\n"
     ]
    }
   ],
   "source": [
    "train_inputs = train_set[:, 0:4] \n",
    "train_classes = train_set[:, 4] \n",
    "\n",
    "test_inputs = test_set[:, 0:4] \n",
    "test_classes = test_set[:, 4] \n",
    "\n",
    "\n",
    "print(test_set.shape[0]) \n",
    "print(train_classes.shape[0])"
   ]
  },
  {
   "cell_type": "code",
   "execution_count": 24,
   "metadata": {},
   "outputs": [
    {
     "name": "stdout",
     "output_type": "stream",
     "text": [
      "37\n",
      "82.22222222222221 %\n"
     ]
    }
   ],
   "source": [
    "def classify_iris(sl, sw, pl, pw): \n",
    "    if pw < 1 and pl < 2: \n",
    "        return(\"Setosa\") \n",
    "    elif sl > 6.5 and pl > 5: \n",
    "        return(\"Virginica\") \n",
    "    else: \n",
    "        return(\"Versicolor\") \n",
    "\n",
    "good_predictions = 0\n",
    "len = test_set.shape[0] \n",
    " \n",
    "for i in range(len): \n",
    "    if classify_iris(test_set[i, 0], test_set[i, 1], test_set[i, 2], test_set[i, 3]) == test_set[i, 4]: \n",
    "        good_predictions = good_predictions + 1 \n",
    " \n",
    "print(good_predictions) \n",
    "print(good_predictions/len*100, \"%\") "
   ]
  }
 ],
 "metadata": {
  "kernelspec": {
   "display_name": "Python 3",
   "language": "python",
   "name": "python3"
  },
  "language_info": {
   "codemirror_mode": {
    "name": "ipython",
    "version": 3
   },
   "file_extension": ".py",
   "mimetype": "text/x-python",
   "name": "python",
   "nbconvert_exporter": "python",
   "pygments_lexer": "ipython3",
   "version": "3.11.0"
  }
 },
 "nbformat": 4,
 "nbformat_minor": 2
}
