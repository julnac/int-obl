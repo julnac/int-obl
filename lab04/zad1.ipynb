{
 "cells": [
  {
   "cell_type": "code",
   "execution_count": 5,
   "metadata": {},
   "outputs": [],
   "source": [
    "import math"
   ]
  },
  {
   "cell_type": "code",
   "execution_count": 6,
   "metadata": {},
   "outputs": [],
   "source": [
    "def activation(x):\n",
    "    return 1 / (1 + math.exp(-x))"
   ]
  },
  {
   "cell_type": "code",
   "execution_count": 7,
   "metadata": {},
   "outputs": [],
   "source": [
    "def forwardPass(wiek, waga, wzrost):\n",
    "    hidden1 = (wiek * -0.46122) + (waga * 0.97314) + (wzrost * -0.39203) + 0.80109\n",
    "    hidden1_po_aktywacji = activation(hidden1)\n",
    "\n",
    "    hidden2 = (wiek * 0.78548) + (waga * 2.10584) + (wzrost * -0.57847) + 0.43529\n",
    "    hidden2_po_aktywacji = activation(hidden2)\n",
    "\n",
    "    output = (hidden1_po_aktywacji * -0.81546) + (hidden2_po_aktywacji * 1.03775) - 0.2368\n",
    "\n",
    "    return output"
   ]
  },
  {
   "cell_type": "code",
   "execution_count": null,
   "metadata": {},
   "outputs": [
    {
     "name": "stdout",
     "output_type": "stream",
     "text": [
      "0.7985341880063129\n",
      "0.7983620560350947\n"
     ]
    }
   ],
   "source": [
    "print(forwardPass(23, 75, 176))  # 0.798528\n",
    "print(forwardPass(30, 80, 180))"
   ]
  }
 ],
 "metadata": {
  "kernelspec": {
   "display_name": "Python 3",
   "language": "python",
   "name": "python3"
  },
  "language_info": {
   "codemirror_mode": {
    "name": "ipython",
    "version": 3
   },
   "file_extension": ".py",
   "mimetype": "text/x-python",
   "name": "python",
   "nbconvert_exporter": "python",
   "pygments_lexer": "ipython3",
   "version": "3.11.0"
  }
 },
 "nbformat": 4,
 "nbformat_minor": 2
}
